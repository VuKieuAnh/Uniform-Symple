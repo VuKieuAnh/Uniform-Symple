{
 "cells": [
  {
   "cell_type": "code",
   "execution_count": 1,
   "id": "b65986e6",
   "metadata": {},
   "outputs": [],
   "source": [
    "import random\n",
    "a= [1, 2, 3, 46]"
   ]
  },
  {
   "cell_type": "code",
   "execution_count": 2,
   "id": "fb5c37cd",
   "metadata": {},
   "outputs": [],
   "source": [
    "def uniform(arr):\n",
    "    n=0\n",
    "    mang=[]\n",
    "    for i in arr:\n",
    "        n=n+1;\n",
    "        rd = random.randint(0,n)\n",
    "        if(rd==0):\n",
    "            mang.append(i)\n",
    "    return mang        "
   ]
  },
  {
   "cell_type": "code",
   "execution_count": 3,
   "id": "f3388c52",
   "metadata": {},
   "outputs": [
    {
     "name": "stdout",
     "output_type": "stream",
     "text": [
      "1\n"
     ]
    }
   ],
   "source": [
    "x = uniform(a)\n",
    "print(x)"
   ]
  },
  {
   "cell_type": "code",
   "execution_count": null,
   "id": "229dd01f",
   "metadata": {},
   "outputs": [],
   "source": []
  }
 ],
 "metadata": {
  "kernelspec": {
   "display_name": "Python 3 (ipykernel)",
   "language": "python",
   "name": "python3"
  },
  "language_info": {
   "codemirror_mode": {
    "name": "ipython",
    "version": 3
   },
   "file_extension": ".py",
   "mimetype": "text/x-python",
   "name": "python",
   "nbconvert_exporter": "python",
   "pygments_lexer": "ipython3",
   "version": "3.9.13"
  }
 },
 "nbformat": 4,
 "nbformat_minor": 5
}
