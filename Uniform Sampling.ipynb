{
 "cells": [
  {
   "cell_type": "code",
   "execution_count": 19,
   "id": "5463058e",
   "metadata": {},
   "outputs": [],
   "source": [
    "import random\n",
    "a= [1, 2, 3, 46]"
   ]
  },
  {
   "cell_type": "code",
   "execution_count": 29,
   "id": "690f5320",
   "metadata": {},
   "outputs": [],
   "source": [
    "def uniform(arr):\n",
    "    n=0\n",
    "    for i in arr:\n",
    "        n=n+1;\n",
    "        rd = random.randint(0,n)\n",
    "        if(rd==0):\n",
    "            c=i;\n",
    "    return c;        \n"
   ]
  },
  {
   "cell_type": "code",
   "execution_count": 30,
   "id": "3280e4e0",
   "metadata": {},
   "outputs": [
    {
     "name": "stdout",
     "output_type": "stream",
     "text": [
      "3\n"
     ]
    }
   ],
   "source": [
    "x = uniform(a)\n",
    "print(x)"
   ]
  },
  {
   "cell_type": "code",
   "execution_count": null,
   "id": "a1dcf0d6",
   "metadata": {},
   "outputs": [],
   "source": []
  }
 ],
 "metadata": {
  "kernelspec": {
   "display_name": "Python 3 (ipykernel)",
   "language": "python",
   "name": "python3"
  },
  "language_info": {
   "codemirror_mode": {
    "name": "ipython",
    "version": 3
   },
   "file_extension": ".py",
   "mimetype": "text/x-python",
   "name": "python",
   "nbconvert_exporter": "python",
   "pygments_lexer": "ipython3",
   "version": "3.9.13"
  }
 },
 "nbformat": 4,
 "nbformat_minor": 5
}
